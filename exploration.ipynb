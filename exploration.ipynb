{
 "cells": [
  {
   "cell_type": "code",
   "execution_count": null,
   "id": "41982808",
   "metadata": {},
   "outputs": [],
   "source": [
    "# Install required packages\n",
    "# !pip install python-dotenv\n",
    "# !pip install numpy\n",
    "# !pip install pandas\n",
    "# !pip install google-api-python-client"
   ]
  },
  {
   "cell_type": "code",
   "execution_count": 1,
   "id": "4344b6d1",
   "metadata": {},
   "outputs": [],
   "source": [
    "# Import required packages\n",
    "from dotenv import load_dotenv\n",
    "import os\n",
    "import numpy as np\n",
    "import pandas as pd\n",
    "from googleapiclient.discovery import build"
   ]
  },
  {
   "cell_type": "code",
   "execution_count": 2,
   "id": "e7c593d8",
   "metadata": {},
   "outputs": [],
   "source": [
    "# Load environment variables from .env file\n",
    "load_dotenv()\n",
    "\n",
    "# Get YouTube API key from .env \n",
    "youtube_api_key = os.getenv(\"youtube_api_key\")"
   ]
  },
  {
   "cell_type": "code",
   "execution_count": 3,
   "id": "cdf5253f",
   "metadata": {},
   "outputs": [],
   "source": [
    "# Build the YouTube service object\n",
    "youtube = build(\"youtube\", \"v3\", developerKey=youtube_api_key)"
   ]
  },
  {
   "cell_type": "code",
   "execution_count": 21,
   "id": "b01556f8",
   "metadata": {},
   "outputs": [],
   "source": [
    "# Get data from a single YouTube channel\n",
    "channel_name = \"AlexTheAnalyst\"\n",
    "\n",
    "\n",
    "def get_channel_data(channel_name):\n",
    "    # Make YouTube API request (uses 1 out of 10.000 units from the daily usage limit)\n",
    "    requests = youtube.channels().list(part=\"statistics\", forHandle=channel_name)  \n",
    "    response = requests.execute()   \n",
    "    # Extract relevant channel data and store as pandas dataframe\n",
    "    channel_df = pd.DataFrame([{\n",
    "        \"channel_name\": channel_name,\n",
    "        \"channel_id\": response[\"items\"][0][\"id\"],\n",
    "        \"view_count\": int(response[\"items\"][0][\"statistics\"][\"viewCount\"]),\n",
    "        \"video_count\": int(response[\"items\"][0][\"statistics\"][\"videoCount\"]),\n",
    "        \"subscriber_count\": int(response[\"items\"][0][\"statistics\"][\"subscriberCount\"])\n",
    "    }])\n",
    "    return channel_df\n",
    "    \n",
    "\n",
    "channel_df = get_channel_data(channel_name)"
   ]
  },
  {
   "cell_type": "code",
   "execution_count": 24,
   "id": "dae312df",
   "metadata": {},
   "outputs": [
    {
     "data": {
      "text/html": [
       "<div>\n",
       "<style scoped>\n",
       "    .dataframe tbody tr th:only-of-type {\n",
       "        vertical-align: middle;\n",
       "    }\n",
       "\n",
       "    .dataframe tbody tr th {\n",
       "        vertical-align: top;\n",
       "    }\n",
       "\n",
       "    .dataframe thead th {\n",
       "        text-align: right;\n",
       "    }\n",
       "</style>\n",
       "<table border=\"1\" class=\"dataframe\">\n",
       "  <thead>\n",
       "    <tr style=\"text-align: right;\">\n",
       "      <th></th>\n",
       "      <th>channel_name</th>\n",
       "      <th>channel_id</th>\n",
       "      <th>view_count</th>\n",
       "      <th>video_count</th>\n",
       "      <th>subscriber_count</th>\n",
       "    </tr>\n",
       "  </thead>\n",
       "  <tbody>\n",
       "    <tr>\n",
       "      <th>0</th>\n",
       "      <td>AlexTheAnalyst</td>\n",
       "      <td>UC7cs8q-gJRlGwj4A8OmCmXg</td>\n",
       "      <td>31828870</td>\n",
       "      <td>292</td>\n",
       "      <td>733000</td>\n",
       "    </tr>\n",
       "  </tbody>\n",
       "</table>\n",
       "</div>"
      ],
      "text/plain": [
       "     channel_name                channel_id  view_count  video_count  \\\n",
       "0  AlexTheAnalyst  UC7cs8q-gJRlGwj4A8OmCmXg    31828870          292   \n",
       "\n",
       "   subscriber_count  \n",
       "0            733000  "
      ]
     },
     "execution_count": 24,
     "metadata": {},
     "output_type": "execute_result"
    }
   ],
   "source": [
    "channel_df"
   ]
  },
  {
   "cell_type": "code",
   "execution_count": null,
   "id": "b005d8d4",
   "metadata": {},
   "outputs": [],
   "source": []
  }
 ],
 "metadata": {
  "kernelspec": {
   "display_name": "venv_development",
   "language": "python",
   "name": "venv_development"
  },
  "language_info": {
   "codemirror_mode": {
    "name": "ipython",
    "version": 3
   },
   "file_extension": ".py",
   "mimetype": "text/x-python",
   "name": "python",
   "nbconvert_exporter": "python",
   "pygments_lexer": "ipython3",
   "version": "3.10.4"
  },
  "toc": {
   "base_numbering": 1,
   "nav_menu": {},
   "number_sections": true,
   "sideBar": true,
   "skip_h1_title": false,
   "title_cell": "Table of Contents",
   "title_sidebar": "Contents",
   "toc_cell": false,
   "toc_position": {},
   "toc_section_display": true,
   "toc_window_display": false
  }
 },
 "nbformat": 4,
 "nbformat_minor": 5
}
